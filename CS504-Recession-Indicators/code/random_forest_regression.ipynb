{
 "cells": [
  {
   "cell_type": "code",
   "execution_count": 20,
   "id": "111bb232",
   "metadata": {},
   "outputs": [],
   "source": [
    "#import packages\n",
    "\n",
    "import pandas as pd\n",
    "import numpy as np\n",
    "import matplotlib.pyplot as plt\n",
    "from sklearn.ensemble import RandomForestClassifier\n",
    "from sklearn.metrics import classification_report\n",
    "from sklearn.metrics import accuracy_score\n",
    "from sklearn.metrics import roc_curve\n",
    "from sklearn.metrics import roc_auc_score\n",
    "from sklearn.model_selection import train_test_split\n",
    "from sklearn.metrics import classification_report\n",
    "import datetime\n",
    "import seaborn as sns"
   ]
  },
  {
   "cell_type": "code",
   "execution_count": 2,
   "id": "a2a1b77f",
   "metadata": {},
   "outputs": [
    {
     "name": "stdout",
     "output_type": "stream",
     "text": [
      "       house_price_index  new_private_house_owned  home_supply  \\\n",
      "count          84.000000                84.000000    84.000000   \n",
      "mean          157.274500               941.273810     7.785714   \n",
      "std            17.585056               456.058608     2.263548   \n",
      "min           133.991000               478.000000     4.200000   \n",
      "25%           143.156500               587.500000     6.100000   \n",
      "50%           148.377000               731.500000     7.550000   \n",
      "75%           177.927250              1213.750000     9.300000   \n",
      "max           184.607000              2273.000000    14.300000   \n",
      "\n",
      "       recession_indicator  federal_rate   real_income  \\\n",
      "count            84.000000     84.000000     84.000000   \n",
      "mean              0.214286      1.783929  13943.014560   \n",
      "std               0.412790      2.171063    446.601342   \n",
      "min               0.000000      0.070000  13214.527000   \n",
      "25%               0.000000      0.147500  13608.611500   \n",
      "50%               0.000000      0.190000  13850.489500   \n",
      "75%               0.000000      4.490000  14304.834250   \n",
      "max               1.000000      5.260000  15333.647000   \n",
      "\n",
      "       consumption_price_index           gdp  treasury_maturity  \n",
      "count                84.000000     84.000000          84.000000  \n",
      "mean                 89.569774  16801.586929           1.857878  \n",
      "std                   3.278411    362.437273           1.315366  \n",
      "min                  83.534000  16269.145000          -0.515455  \n",
      "25%                  87.252000  16498.403000           0.526776  \n",
      "50%                  89.745000  16826.295000           2.124286  \n",
      "75%                  92.263750  16978.476250           3.089341  \n",
      "max                  95.174000  17489.852000           3.684545  \n"
     ]
    }
   ],
   "source": [
    "#read in data\n",
    "df = pd.read_csv('data.csv')\n",
    "\n",
    "#look at data\n",
    "descdf = df.describe()\n",
    "print(descdf)\n",
    "\n",
    "\n",
    "# Ensure the data is sorted by date\n",
    "df = df.sort_values(by='Date')\n"
   ]
  },
  {
   "cell_type": "code",
   "execution_count": 3,
   "id": "8a03ee7e",
   "metadata": {},
   "outputs": [],
   "source": [
    "\n",
    "# Lag the independent variables by six months\n",
    "lagged_df = df.shift(periods=6)\n",
    "\n",
    "\n",
    "# Drop rows with NaN values created by the lag\n",
    "lagged_df = lagged_df.dropna()"
   ]
  },
  {
   "cell_type": "code",
   "execution_count": 11,
   "id": "2d04f8fe",
   "metadata": {},
   "outputs": [],
   "source": [
    "# Define the independent variables (economic indices)\n",
    "X = lagged_df[[\n",
    "    'house_price_index',\n",
    "    'new_private_house_owned',\n",
    "    'home_supply',\n",
    "    'federal_rate',\n",
    "    'real_income',\n",
    "    'consumption_price_index',\n",
    "    'gdp']]\n",
    "\n",
    "# Define the dependent variable (spread)\n",
    "y = lagged_df['treasury_maturity']\n",
    "y_binary = (y>y.median()).astype(int)"
   ]
  },
  {
   "cell_type": "code",
   "execution_count": 12,
   "id": "271bfd4a",
   "metadata": {},
   "outputs": [
    {
     "name": "stdout",
     "output_type": "stream",
     "text": [
      "Date                        object\n",
      "house_price_index          float64\n",
      "new_private_house_owned      int64\n",
      "home_supply                float64\n",
      "recession_indicator          int64\n",
      "federal_rate               float64\n",
      "real_income                float64\n",
      "consumption_price_index    float64\n",
      "gdp                        float64\n",
      "treasury_maturity          float64\n",
      "period                      object\n",
      "dtype: object\n",
      "Index(['Date', 'house_price_index', 'new_private_house_owned', 'home_supply',\n",
      "       'recession_indicator', 'federal_rate', 'real_income',\n",
      "       'consumption_price_index', 'gdp', 'treasury_maturity', 'period'],\n",
      "      dtype='object')\n"
     ]
    }
   ],
   "source": [
    "# get summary with Tukey's five number summary for numerical variables\n",
    "print(df.dtypes)\n",
    "print(df.columns)"
   ]
  },
  {
   "cell_type": "code",
   "execution_count": 13,
   "id": "2673d6c9",
   "metadata": {},
   "outputs": [],
   "source": [
    "# Train/test split\n",
    "X_train, X_test, y_train, y_test = train_test_split(X, y_binary, test_size=0.2,\n",
    "random_state=42)"
   ]
  },
  {
   "cell_type": "code",
   "execution_count": 14,
   "id": "dcad67db",
   "metadata": {},
   "outputs": [
    {
     "data": {
      "text/html": [
       "<style>#sk-container-id-1 {color: black;}#sk-container-id-1 pre{padding: 0;}#sk-container-id-1 div.sk-toggleable {background-color: white;}#sk-container-id-1 label.sk-toggleable__label {cursor: pointer;display: block;width: 100%;margin-bottom: 0;padding: 0.3em;box-sizing: border-box;text-align: center;}#sk-container-id-1 label.sk-toggleable__label-arrow:before {content: \"▸\";float: left;margin-right: 0.25em;color: #696969;}#sk-container-id-1 label.sk-toggleable__label-arrow:hover:before {color: black;}#sk-container-id-1 div.sk-estimator:hover label.sk-toggleable__label-arrow:before {color: black;}#sk-container-id-1 div.sk-toggleable__content {max-height: 0;max-width: 0;overflow: hidden;text-align: left;background-color: #f0f8ff;}#sk-container-id-1 div.sk-toggleable__content pre {margin: 0.2em;color: black;border-radius: 0.25em;background-color: #f0f8ff;}#sk-container-id-1 input.sk-toggleable__control:checked~div.sk-toggleable__content {max-height: 200px;max-width: 100%;overflow: auto;}#sk-container-id-1 input.sk-toggleable__control:checked~label.sk-toggleable__label-arrow:before {content: \"▾\";}#sk-container-id-1 div.sk-estimator input.sk-toggleable__control:checked~label.sk-toggleable__label {background-color: #d4ebff;}#sk-container-id-1 div.sk-label input.sk-toggleable__control:checked~label.sk-toggleable__label {background-color: #d4ebff;}#sk-container-id-1 input.sk-hidden--visually {border: 0;clip: rect(1px 1px 1px 1px);clip: rect(1px, 1px, 1px, 1px);height: 1px;margin: -1px;overflow: hidden;padding: 0;position: absolute;width: 1px;}#sk-container-id-1 div.sk-estimator {font-family: monospace;background-color: #f0f8ff;border: 1px dotted black;border-radius: 0.25em;box-sizing: border-box;margin-bottom: 0.5em;}#sk-container-id-1 div.sk-estimator:hover {background-color: #d4ebff;}#sk-container-id-1 div.sk-parallel-item::after {content: \"\";width: 100%;border-bottom: 1px solid gray;flex-grow: 1;}#sk-container-id-1 div.sk-label:hover label.sk-toggleable__label {background-color: #d4ebff;}#sk-container-id-1 div.sk-serial::before {content: \"\";position: absolute;border-left: 1px solid gray;box-sizing: border-box;top: 0;bottom: 0;left: 50%;z-index: 0;}#sk-container-id-1 div.sk-serial {display: flex;flex-direction: column;align-items: center;background-color: white;padding-right: 0.2em;padding-left: 0.2em;position: relative;}#sk-container-id-1 div.sk-item {position: relative;z-index: 1;}#sk-container-id-1 div.sk-parallel {display: flex;align-items: stretch;justify-content: center;background-color: white;position: relative;}#sk-container-id-1 div.sk-item::before, #sk-container-id-1 div.sk-parallel-item::before {content: \"\";position: absolute;border-left: 1px solid gray;box-sizing: border-box;top: 0;bottom: 0;left: 50%;z-index: -1;}#sk-container-id-1 div.sk-parallel-item {display: flex;flex-direction: column;z-index: 1;position: relative;background-color: white;}#sk-container-id-1 div.sk-parallel-item:first-child::after {align-self: flex-end;width: 50%;}#sk-container-id-1 div.sk-parallel-item:last-child::after {align-self: flex-start;width: 50%;}#sk-container-id-1 div.sk-parallel-item:only-child::after {width: 0;}#sk-container-id-1 div.sk-dashed-wrapped {border: 1px dashed gray;margin: 0 0.4em 0.5em 0.4em;box-sizing: border-box;padding-bottom: 0.4em;background-color: white;}#sk-container-id-1 div.sk-label label {font-family: monospace;font-weight: bold;display: inline-block;line-height: 1.2em;}#sk-container-id-1 div.sk-label-container {text-align: center;}#sk-container-id-1 div.sk-container {/* jupyter's `normalize.less` sets `[hidden] { display: none; }` but bootstrap.min.css set `[hidden] { display: none !important; }` so we also need the `!important` here to be able to override the default hidden behavior on the sphinx rendered scikit-learn.org. See: https://github.com/scikit-learn/scikit-learn/issues/21755 */display: inline-block !important;position: relative;}#sk-container-id-1 div.sk-text-repr-fallback {display: none;}</style><div id=\"sk-container-id-1\" class=\"sk-top-container\"><div class=\"sk-text-repr-fallback\"><pre>RandomForestClassifier(random_state=42)</pre><b>In a Jupyter environment, please rerun this cell to show the HTML representation or trust the notebook. <br />On GitHub, the HTML representation is unable to render, please try loading this page with nbviewer.org.</b></div><div class=\"sk-container\" hidden><div class=\"sk-item\"><div class=\"sk-estimator sk-toggleable\"><input class=\"sk-toggleable__control sk-hidden--visually\" id=\"sk-estimator-id-1\" type=\"checkbox\" checked><label for=\"sk-estimator-id-1\" class=\"sk-toggleable__label sk-toggleable__label-arrow\">RandomForestClassifier</label><div class=\"sk-toggleable__content\"><pre>RandomForestClassifier(random_state=42)</pre></div></div></div></div></div>"
      ],
      "text/plain": [
       "RandomForestClassifier(random_state=42)"
      ]
     },
     "execution_count": 14,
     "metadata": {},
     "output_type": "execute_result"
    }
   ],
   "source": [
    "# Fit Random Forest Regressor\n",
    "model = RandomForestClassifier(random_state=42)\n",
    "model.fit(X_train, y_train)"
   ]
  },
  {
   "cell_type": "code",
   "execution_count": 15,
   "id": "9f24ef06",
   "metadata": {},
   "outputs": [],
   "source": [
    "# # Get feature importances\n",
    "# feature_importances = model.feature_importances_\n",
    "# # Display feature importances\n",
    "# importance_df = pd.DataFrame({'Feature': X.columns, 'Importance': feature_importances})\n",
    "# print(importance_df.sort_values(by='Importance', ascending=False))\n"
   ]
  },
  {
   "cell_type": "code",
   "execution_count": 21,
   "id": "fc3f4526",
   "metadata": {},
   "outputs": [
    {
     "name": "stdout",
     "output_type": "stream",
     "text": [
      "AUC Score: 1.0\n",
      "Classification Report:\n",
      "               precision    recall  f1-score   support\n",
      "\n",
      "           0       0.89      1.00      0.94         8\n",
      "           1       1.00      0.88      0.93         8\n",
      "\n",
      "    accuracy                           0.94        16\n",
      "   macro avg       0.94      0.94      0.94        16\n",
      "weighted avg       0.94      0.94      0.94        16\n",
      "\n"
     ]
    }
   ],
   "source": [
    "# Predict probabilities and labels\n",
    "y_pred_proba = model.predict_proba(X_test)[:, 1]\n",
    "y_pred = model.predict(X_test)\n",
    "\n",
    "# ROC and AUC\n",
    "fpr, tpr, _ = roc_curve(y_test, y_pred_proba)\n",
    "auc_score = roc_auc_score(y_test, y_pred_proba)\n",
    "\n",
    "# Print results\n",
    "print(\"AUC Score:\", auc_score)\n",
    "print(\"Classification Report:\\n\", classification_report(y_test, y_pred))"
   ]
  },
  {
   "cell_type": "code",
   "execution_count": 22,
   "id": "8c49aecd",
   "metadata": {},
   "outputs": [],
   "source": [
    "# Plot actual vs predicted\n",
    "df_test = df.iloc[-len(y_test):].copy()\n",
    "df_test['Predicted Spread'] = y_pred\n"
   ]
  },
  {
   "cell_type": "code",
   "execution_count": 23,
   "id": "6dc7d5af",
   "metadata": {},
   "outputs": [],
   "source": [
    "# # create rsquared to judge model performance\n",
    "# r2 = r2_score(y_test, y_pred)\n",
    "# print(f'R-squared: {r2}')\n",
    "\n",
    "# # create mean absolute error to judge model performance\n",
    "# mae = mean_absolute_error(y_test, y_pred)\n",
    "# print(f'Mean Absolute Error: {mae}:2f')\n",
    "\n",
    "# # create mean squared error to judge model performance\n",
    "# mse = mean_squared_error(y_test, y_pred)\n",
    "# print(f'Mean Squared Error: {mse}')\n",
    "\n",
    "# # create root mean squared error to judge model performance\n",
    "# rmse = np.sqrt(mean_squared_error(y_test, y_pred))\n",
    "# print(f'Root Mean Squared Error: {rmse}')\n",
    "\n",
    "# # create mean absolute percentage error\n",
    "# mape = np.mean(np.abs((y_test - y_pred) / y_test)) * 100\n",
    "# print(f'Mean Absolute Percentage Error: {mape}')\n",
    "\n"
   ]
  },
  {
   "cell_type": "code",
   "execution_count": 28,
   "id": "82f3a24f",
   "metadata": {},
   "outputs": [],
   "source": [
    "\n",
    "# #plot results from random forest regression\n",
    "# plt.figure(figsize=(12, 6))\n",
    "# plt.plot(df_test.index, df_test['treasury_maturity'], label='Actual Spread', linewidth=2)\n",
    "# plt.plot(df_test.index, df_test['Predicted Spread'], label='Predicted Spread', linestyle='--')\n",
    "# plt.axhline(0, color='gray', linestyle=':', alpha=0.6)\n",
    "# plt.title(\"Predicted vs Actual 10Y–3M Yield Curve Spread (Random Forest)\")\n",
    "# plt.ylabel(\"Spread (bps)\")\n",
    "# plt.xlabel(\"Date\")\n",
    "# plt.legend()\n",
    "# plt.grid(True)\n",
    "# plt.tight_layout()\n",
    "# plt.show()"
   ]
  },
  {
   "cell_type": "code",
   "execution_count": 29,
   "id": "47ba31c6",
   "metadata": {},
   "outputs": [],
   "source": [
    "# # Assuming y_test and y_pred are your actual and predicted values\n",
    "# plt.figure(figsize=(10, 6))\n",
    "# plt.scatter(y_test, y_pred, alpha=0.5)\n",
    "# plt.plot([min(y_test), max(y_test)], [min(y_test), max(y_test)], color='red', linestyle='--')\n",
    "# plt.xlabel('Actual Values')\n",
    "# plt.ylabel('Predicted Values')\n",
    "# plt.title('Actual vs. Predicted Values of Yield Curve Spread using six month lag')\n",
    "# plt.show()"
   ]
  },
  {
   "cell_type": "code",
   "execution_count": 26,
   "id": "1b7aa521",
   "metadata": {},
   "outputs": [],
   "source": [
    "# Assuming model is your trained RandomForestRegressor\n",
    "feature_importances = model.feature_importances_\n",
    "features = X.columns\n",
    "\n",
    "# Create a DataFrame for better visualization\n",
    "importance_df = pd.DataFrame({'Feature': features, 'Importance': feature_importances})\n",
    "\n",
    "# Sort the DataFrame by importance\n",
    "importance_df = importance_df.sort_values(by='Importance', ascending=False)\n"
   ]
  },
  {
   "cell_type": "code",
   "execution_count": 27,
   "id": "584e4053",
   "metadata": {},
   "outputs": [
    {
     "data": {
      "image/png": "[encoded data removed]",
      "text/plain": [
       "<Figure size 1000x600 with 1 Axes>"
      ]
     },
     "metadata": {},
     "output_type": "display_data"
    }
   ],
   "source": [
    "# Plot the feature importances\n",
    "plt.figure(figsize=(10, 6))\n",
    "sns.barplot(x='Importance', y='Feature', data=importance_df)\n",
    "plt.title('Feature Importances for Yield Spread Prediction Using a Six Month Lag')\n",
    "plt.show()\n"
   ]
  },
  {
   "cell_type": "code",
   "execution_count": null,
   "id": "9274820d",
   "metadata": {},
   "outputs": [],
   "source": []
  }
 ],
 "metadata": {
  "kernelspec": {
   "display_name": "Python 3",
   "language": "python",
   "name": "python3"
  },
  "language_info": {
   "codemirror_mode": {
    "name": "ipython",
    "version": 3
   },
   "file_extension": ".py",
   "mimetype": "text/x-python",
   "name": "python",
   "nbconvert_exporter": "python",
   "pygments_lexer": "ipython3",
   "version": "3.9.12"
  }
 },
 "nbformat": 4,
 "nbformat_minor": 5
}
